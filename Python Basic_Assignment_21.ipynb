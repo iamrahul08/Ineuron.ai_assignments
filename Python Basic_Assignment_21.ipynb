{
 "cells": [
  {
   "cell_type": "markdown",
   "id": "b0973721",
   "metadata": {},
   "source": [
    "## 1. Add the current date to the text file today.txt as a string."
   ]
  },
  {
   "cell_type": "code",
   "execution_count": 1,
   "id": "f83e1280",
   "metadata": {},
   "outputs": [
    {
     "data": {
      "text/plain": [
       "'2022-02-13'"
      ]
     },
     "execution_count": 1,
     "metadata": {},
     "output_type": "execute_result"
    }
   ],
   "source": [
    "import datetime\n",
    "from datetime import date\n",
    "now = date.today()\n",
    "cur_date = now.isoformat()\n",
    "cur_date"
   ]
  },
  {
   "cell_type": "code",
   "execution_count": 2,
   "id": "24eca7ba",
   "metadata": {},
   "outputs": [],
   "source": [
    "with open('today.txt','w') as file:\n",
    "    file.write(cur_date)"
   ]
  },
  {
   "cell_type": "markdown",
   "id": "ed2d72a8",
   "metadata": {},
   "source": [
    "## 2. Read the text file today.txt into the string today_string"
   ]
  },
  {
   "cell_type": "code",
   "execution_count": 3,
   "id": "a7c9c5a7",
   "metadata": {},
   "outputs": [
    {
     "data": {
      "text/plain": [
       "'2022-02-13'"
      ]
     },
     "execution_count": 3,
     "metadata": {},
     "output_type": "execute_result"
    }
   ],
   "source": [
    "with open('today.txt','r') as file:\n",
    "    today_string = file.read()\n",
    "today_string"
   ]
  },
  {
   "cell_type": "markdown",
   "id": "1d26cf52",
   "metadata": {},
   "source": [
    "## 3. Parse the date from today_string."
   ]
  },
  {
   "cell_type": "code",
   "execution_count": 4,
   "id": "62a016d1",
   "metadata": {},
   "outputs": [
    {
     "data": {
      "text/plain": [
       "datetime.datetime(2022, 2, 13, 0, 0)"
      ]
     },
     "execution_count": 4,
     "metadata": {},
     "output_type": "execute_result"
    }
   ],
   "source": [
    "from datetime import datetime\n",
    "format = '%Y-%m-%d'\n",
    "datetime.strptime(today_string,format)"
   ]
  },
  {
   "cell_type": "markdown",
   "id": "c9ef6202",
   "metadata": {},
   "source": [
    "## 4. List the files in your current directory"
   ]
  },
  {
   "cell_type": "code",
   "execution_count": 5,
   "id": "df8fe904",
   "metadata": {},
   "outputs": [
    {
     "data": {
      "text/plain": [
       "['.anaconda',\n",
       " '.conda',\n",
       " '.condarc',\n",
       " '.continuum',\n",
       " '.ipynb_checkpoints',\n",
       " '.ipython',\n",
       " '.jupyter',\n",
       " '.obs64',\n",
       " '2dht.sof3.jpg',\n",
       " '2x2.jpg',\n",
       " '3D Objects',\n",
       " '3dht.sof3.jpg',\n",
       " '687px-Mona_Lisa,_by_Leonardo_da_Vinci,_from_C2RMF_retouched.jpg',\n",
       " '6de701fa.jpg',\n",
       " 'aadhar update form.pdf',\n",
       " 'acknowledgement-1635903992432.pdf',\n",
       " 'Aerial_V2_960_e4f16d9ab2de9e07fc69b471b386ba4b.jpg',\n",
       " 'AIatSCALE-2.jpg',\n",
       " 'Alloy_960_a913b5f968269f69c6e8532d3e282331.jpg',\n",
       " 'anaconda3',\n",
       " 'ansel',\n",
       " 'Anushka healthians report.pdf',\n",
       " 'AppData',\n",
       " 'Application Data',\n",
       " 'archive_entry.3.pdf',\n",
       " 'archive_entry_acl.3.pdf',\n",
       " 'archive_entry_linkify.3.pdf',\n",
       " 'archive_entry_misc.3.pdf',\n",
       " 'archive_entry_paths.3.pdf',\n",
       " 'archive_entry_perms.3.pdf',\n",
       " 'archive_entry_stat.3.pdf',\n",
       " 'archive_entry_time.3.pdf',\n",
       " 'archive_read.3.pdf',\n",
       " 'archive_read_add_passphrase.3.pdf',\n",
       " 'archive_read_data.3.pdf',\n",
       " 'archive_read_disk.3.pdf',\n",
       " 'archive_read_extract.3.pdf',\n",
       " 'archive_read_filter.3.pdf',\n",
       " 'archive_read_format.3.pdf',\n",
       " 'archive_read_free.3.pdf',\n",
       " 'archive_read_header.3.pdf',\n",
       " 'archive_read_new.3.pdf',\n",
       " 'archive_read_open.3.pdf',\n",
       " 'archive_read_set_options.3.pdf',\n",
       " 'archive_util.3.pdf',\n",
       " 'archive_write.3.pdf',\n",
       " 'archive_write_blocksize.3.pdf',\n",
       " 'archive_write_data.3.pdf',\n",
       " 'archive_write_disk.3.pdf',\n",
       " 'archive_write_filter.3.pdf',\n",
       " 'archive_write_finish_entry.3.pdf',\n",
       " 'archive_write_format.3.pdf',\n",
       " 'archive_write_free.3.pdf',\n",
       " 'archive_write_header.3.pdf',\n",
       " 'archive_write_new.3.pdf',\n",
       " 'archive_write_open.3.pdf',\n",
       " 'archive_write_set_options.3.pdf',\n",
       " 'archive_write_set_passphrase.3.pdf',\n",
       " 'assignment 5.ipynb',\n",
       " 'Aurora_960_e5e180d0afc4c9938bc4f43c29faad2f.jpg',\n",
       " 'back.pdf',\n",
       " 'bali.jpg',\n",
       " 'bc47a8347867d95be5ca913114195e3b51afa2d0-1.jpg',\n",
       " 'bg-blue.jpg',\n",
       " 'bg-dark.jpg',\n",
       " 'bg-grey.jpg',\n",
       " 'Bing - Republic Day.jpg',\n",
       " 'Bokeh_V2_960_4a9e6622fd62a84a258eb269895a094c.jpg',\n",
       " 'books.csv',\n",
       " 'books.db',\n",
       " 'BoutiqueDark_960_2670632012cab762c1b532bbae7ce357.jpg',\n",
       " 'bsdcpio.1.pdf',\n",
       " 'bsdtar.1.pdf',\n",
       " 'CachedImage_1920_1080_POS4.jpg',\n",
       " 'CamScanner 01-22-2022 21.41.43.pdf',\n",
       " 'car.data',\n",
       " 'ce654d99.jpg',\n",
       " 'Celestial_V2_960_1b011c282433a37463b96c8587dc3874.jpg',\n",
       " 'china.jpg',\n",
       " 'cockatoo.mp4',\n",
       " 'conda-webinar.jpg',\n",
       " 'Contacts',\n",
       " 'continuum_twitter.jpg',\n",
       " 'Convergence_V2_960_a4291915a9e359b054f1e7b21f49dca9.jpg',\n",
       " 'Cookies',\n",
       " 'cover.jpg',\n",
       " 'cpio.5.pdf',\n",
       " 'Creativity_buck.jpg',\n",
       " 'data_science.jpg',\n",
       " 'De7-zdIXcAAkGzX.jpg',\n",
       " 'DeimBNzXcAULC59.jpg',\n",
       " 'demo.docx',\n",
       " 'Desktop',\n",
       " 'desktop_notification_1.jpg',\n",
       " 'desktop_notification_2.jpg',\n",
       " 'DevOpsDS.jpg',\n",
       " 'Dl8O_TCU8AAnjBi.jpg',\n",
       " 'Documents',\n",
       " 'Downloads',\n",
       " 'DUO211201_post_410000.pdf',\n",
       " 'eStatement2385IN_2021-11-30_11_19.pdf',\n",
       " 'example.csv',\n",
       " 'example.tsv',\n",
       " 'example1.csv',\n",
       " 'Favorites',\n",
       " 'Fete_960_58955bd483e88501127f602a7272805b.jpg',\n",
       " 'filesave.pdf',\n",
       " 'FinancialServices.jpg',\n",
       " 'flower.jpg',\n",
       " 'flowers.jpg',\n",
       " 'Fluent_2k_a1e4f5bb63098c45ac83afc5ed6e7c08.jpg',\n",
       " 'Fluent_864_bf384ed42f878a0cff607687a6bb7590.jpg',\n",
       " 'FoodInspired_buck.jpg',\n",
       " 'Form_pdf_635034940301221.pdf',\n",
       " 'forward.pdf',\n",
       " 'Getting started with OneDrive.pdf',\n",
       " 'glass.data',\n",
       " 'gminer',\n",
       " 'gray.u1.jpg',\n",
       " 'gray.u2.jpg',\n",
       " 'gray16.sof3.jpg',\n",
       " 'gray8.sof3.jpg',\n",
       " 'hand.pdf',\n",
       " 'hellothere.docx',\n",
       " 'help.pdf',\n",
       " 'home.pdf',\n",
       " 'home_vibe.jpg',\n",
       " 'hubble_deep_field.jpg',\n",
       " 'IMG_20161009_123118273.jpg',\n",
       " 'IMG_20170320_075323132.jpg',\n",
       " 'IMG_20211211_105407.jpg',\n",
       " 'IMG_20211211_105530__01.jpg',\n",
       " 'Implementation.jpg',\n",
       " 'IntelGraphicsProfiles',\n",
       " 'jello.jpg',\n",
       " 'lab.jpg',\n",
       " 'LandlordHRADeclaration (1).pdf',\n",
       " 'LandlordHRADeclaration.pdf',\n",
       " 'libarchive-formats.5.pdf',\n",
       " 'libarchive.3.pdf',\n",
       " 'libarchive_changes.3.pdf',\n",
       " 'libarchive_internals.3.pdf',\n",
       " 'Links',\n",
       " 'Local Settings',\n",
       " 'Lucent_960_45a6dba5a0d070b7aa3cf5b8bea87687.jpg',\n",
       " 'matplotlib.pdf',\n",
       " 'Mega_V2_960_80ada013d06f3a42ccca3ddbc67df6f4.jpg',\n",
       " 'Midtown_960_bb7c730287ec352c0c5ad6e32d882859.jpg',\n",
       " 'mobile_client_qr_code.jpg',\n",
       " 'move.pdf',\n",
       " 'msft_nostalgia_clippy.jpg',\n",
       " 'msft_nostalgia_landscape.jpg',\n",
       " 'msft_nostalgia_paint.jpg',\n",
       " 'msft_nostalgia_solitaire.jpg',\n",
       " 'mtree.5.pdf',\n",
       " 'Muse_2k_6e0aaba44fddba3111710bfb18741efb.jpg',\n",
       " 'Muse_750_1f66eeafa6bddf9fa96b1755b467bd5e.jpg',\n",
       " 'Music',\n",
       " 'My Documents',\n",
       " 'NetHood',\n",
       " 'noop-1s.mp4',\n",
       " 'NTUSER.DAT',\n",
       " 'ntuser.dat.LOG1',\n",
       " 'ntuser.dat.LOG2',\n",
       " 'NTUSER.DAT{1c2b59c6-c5f5-11eb-bacb-000d3a96488e}.TM.blf',\n",
       " 'NTUSER.DAT{1c2b59c6-c5f5-11eb-bacb-000d3a96488e}.TMContainer00000000000000000001.regtrans-ms',\n",
       " 'NTUSER.DAT{1c2b59c6-c5f5-11eb-bacb-000d3a96488e}.TMContainer00000000000000000002.regtrans-ms',\n",
       " 'ntuser.ini',\n",
       " 'Office2.jpg',\n",
       " 'OneDrive',\n",
       " 'OuterWorlds.jpg',\n",
       " 'Paragraph.pdf',\n",
       " 'party.jpg',\n",
       " 'Pdf_635034940301221.pdf',\n",
       " 'Pictures',\n",
       " 'Pilar_V2_960_b143ace0a963e2890e3b4f4bceac4cd2.jpg',\n",
       " 'pride_21_abrosexual.jpg',\n",
       " 'pride_21_agender.jpg',\n",
       " 'pride_21_asexual.jpg',\n",
       " 'pride_21_bigender.jpg',\n",
       " 'pride_21_bisexual.jpg',\n",
       " 'pride_21_demisexual.jpg',\n",
       " 'pride_21_genderfluid.jpg',\n",
       " 'pride_21_genderflux.jpg',\n",
       " 'pride_21_intersex.jpg',\n",
       " 'pride_21_lesbian.jpg',\n",
       " 'pride_21_neutrois.jpg',\n",
       " 'pride_21_nonbinary.jpg',\n",
       " 'pride_21_pangender.jpg',\n",
       " 'pride_21_polysexual.jpg',\n",
       " 'pride_21_prideflag.jpg',\n",
       " 'pride_21_rainbow.jpg',\n",
       " 'pride_21_transgender.jpg',\n",
       " 'PrintHood',\n",
       " 'Python Basic_Assignment_10.ipynb',\n",
       " 'Python Basic_Assignment_11.ipynb',\n",
       " 'Python Basic_Assignment_12.ipynb',\n",
       " 'Python Basic_Assignment_13.ipynb',\n",
       " 'Python Basic_Assignment_14.ipynb',\n",
       " 'Python Basic_Assignment_15.ipynb',\n",
       " 'Python Basic_Assignment_16.ipynb',\n",
       " 'Python Basic_Assignment_17.ipynb',\n",
       " 'Python Basic_Assignment_18.ipynb',\n",
       " 'Python Basic_Assignment_19.ipynb',\n",
       " 'Python Basic_Assignment_20.ipynb',\n",
       " 'Python Basic_Assignment_6.ipynb',\n",
       " 'Python Basic_Assignment_7.ipynb',\n",
       " 'Python Basic_Assignment_8.ipynb',\n",
       " 'Python Basic_Assignment_9.ipynb',\n",
       " 'python-visualization.jpg',\n",
       " 'python.jpg',\n",
       " 'Qt-footer-bg.jpg',\n",
       " 'Qt-header-bg.jpg',\n",
       " 'qt4_editor_options.pdf',\n",
       " 'quad.jpg',\n",
       " 'realshort.mp4',\n",
       " 'Recent',\n",
       " 'Reflection_960_ff1cec95787fda913d63345153c95b39.jpg',\n",
       " 'Rent 1.jpg',\n",
       " 'Rent 2.jpg',\n",
       " 'Rent 3.jpg',\n",
       " 'Rent 4.jpg',\n",
       " 'rent receipts - 20-21.pdf',\n",
       " 'Rent receipts 21-22.pdf',\n",
       " 'retina.jpg',\n",
       " 'rgb.u1.jpg',\n",
       " 'rgb.u2.jpg',\n",
       " 'rgb24.sof3.jpg',\n",
       " 'rgba.u1.jpg',\n",
       " 'rgba.u2.jpg',\n",
       " 'rocket.jpg',\n",
       " 'Room.jpg',\n",
       " 'Saved Games',\n",
       " 'Searches',\n",
       " 'SendTo',\n",
       " 'Shankbook_final_red.pdf',\n",
       " 'Sierra_960_5dd659bfa2f7821d69fc15de08717289.jpg',\n",
       " 'site-event-image.jpg',\n",
       " 'SkypeCelebration.jpg',\n",
       " 'smallliz.jpg',\n",
       " 'special_place.jpg',\n",
       " 'Spooky.jpg',\n",
       " 'Start Menu',\n",
       " 'stratany2018_venue_image.jpg',\n",
       " 'Structure_V2_2k_ad7146adb4c2806a51734fde9936c3e4.jpg',\n",
       " 'Structure_V2_960_d30ee108678ed2bad93da261f45435f9.jpg',\n",
       " 'subplots.pdf',\n",
       " 'tar.5.pdf',\n",
       " 'Task to be completed by 29th Jan.jpg',\n",
       " 'Task to be completed by 30th Jan.jpg',\n",
       " 'Templates',\n",
       " 'tensorflow.jpg',\n",
       " 'test.log',\n",
       " 'test.txt',\n",
       " 'test1.py',\n",
       " 'test2.log',\n",
       " 'test2.py',\n",
       " 'test2.py.bak',\n",
       " 'test3.log',\n",
       " 'testfolder',\n",
       " 'testorig.jpg',\n",
       " 'today.txt',\n",
       " 'Tracing',\n",
       " 'Tranquil_V2_960_85c7a8ffcb395d0d1e3b15a0783fb32e.jpg',\n",
       " 'uglysweater.jpg',\n",
       " 'uglysweater1.jpg',\n",
       " 'uglysweater2.jpg',\n",
       " 'uglysweater3.jpg',\n",
       " 'Untitled.ipynb',\n",
       " 'Untitled1.ipynb',\n",
       " 'Untitled10.ipynb',\n",
       " 'Untitled11.ipynb',\n",
       " 'Untitled2.ipynb',\n",
       " 'Untitled3.ipynb',\n",
       " 'Untitled4.ipynb',\n",
       " 'Untitled5.ipynb',\n",
       " 'Untitled6.ipynb',\n",
       " 'us_blank.jpg',\n",
       " 'us_home.jpg',\n",
       " 'us_lab.jpg',\n",
       " 'us_office1.jpg',\n",
       " 'us_office2.jpg',\n",
       " 'us_outerworlds.jpg',\n",
       " 'valentines.jpg',\n",
       " 'Videos',\n",
       " 'vlc_001.jpg',\n",
       " 'Webinar-SocialImage-DAskforPerformance-01.jpg',\n",
       " 'Webinar-SocialImage-DeepLearningGPUs-Social-01-1.jpg',\n",
       " 'Webinar-SocialImage-ScalableMachineLearning-NoButton-01.jpg',\n",
       " 'zoo.ipynb',\n",
       " 'zoo.py',\n",
       " 'zoom_to_rect.pdf',\n",
       " '__pycache__']"
      ]
     },
     "execution_count": 5,
     "metadata": {},
     "output_type": "execute_result"
    }
   ],
   "source": [
    "import os\n",
    "os.listdir('.')"
   ]
  },
  {
   "cell_type": "markdown",
   "id": "372d877e",
   "metadata": {},
   "source": [
    "## 5. Create a list of all of the files in your parent directory (minimum five files should be available)."
   ]
  },
  {
   "cell_type": "code",
   "execution_count": 6,
   "id": "96e5709f",
   "metadata": {},
   "outputs": [
    {
     "data": {
      "text/plain": [
       "['All Users', 'Default', 'Default User', 'desktop.ini', 'Public', 'rahul']"
      ]
     },
     "execution_count": 6,
     "metadata": {},
     "output_type": "execute_result"
    }
   ],
   "source": [
    "os.listdir('..')"
   ]
  },
  {
   "cell_type": "markdown",
   "id": "eac58da6",
   "metadata": {},
   "source": [
    "## 6. Use multiprocessing to create three separate processes. Make each one wait a random number of seconds between one and five, print the current time, and then exit."
   ]
  },
  {
   "cell_type": "code",
   "execution_count": 16,
   "id": "247918a2",
   "metadata": {},
   "outputs": [],
   "source": [
    "import multiprocessing\n",
    "\n",
    "def printsec(seconds):\n",
    "    from datetime import datetime\n",
    "    from time import sleep\n",
    "    sleep(seconds)\n",
    "    print('wait', seconds, 'seconds, time is', datetime.utcnow())\n",
    "    \n",
    "if __name__ == '__main__':\n",
    "    import random    \n",
    "    for n in range(3):\n",
    "        seconds = random.random()\n",
    "        proc = multiprocessing.Process(target=printsec, args=(seconds,))\n",
    "        proc.start()"
   ]
  },
  {
   "cell_type": "code",
   "execution_count": 21,
   "id": "4482502d",
   "metadata": {},
   "outputs": [],
   "source": [
    "!python multi.py"
   ]
  },
  {
   "cell_type": "markdown",
   "id": "2f58d554",
   "metadata": {},
   "source": [
    "## 7. Create a date object of your day of birth."
   ]
  },
  {
   "cell_type": "code",
   "execution_count": 23,
   "id": "c0edad15",
   "metadata": {},
   "outputs": [
    {
     "data": {
      "text/plain": [
       "datetime.date(1994, 1, 23)"
      ]
     },
     "execution_count": 23,
     "metadata": {},
     "output_type": "execute_result"
    }
   ],
   "source": [
    "my_date = date(1994,1,23)\n",
    "my_date"
   ]
  },
  {
   "cell_type": "markdown",
   "id": "c24fb19d",
   "metadata": {},
   "source": [
    "## 8. What day of the week was your day of birth?\n"
   ]
  },
  {
   "cell_type": "code",
   "execution_count": 25,
   "id": "00967a89",
   "metadata": {},
   "outputs": [
    {
     "data": {
      "text/plain": [
       "6"
      ]
     },
     "execution_count": 25,
     "metadata": {},
     "output_type": "execute_result"
    }
   ],
   "source": [
    "my_date.weekday()"
   ]
  },
  {
   "cell_type": "markdown",
   "id": "64d9df55",
   "metadata": {},
   "source": [
    "## 9. When will you be (or when were you) 10,000 days old?"
   ]
  },
  {
   "cell_type": "code",
   "execution_count": 26,
   "id": "a5927c9c",
   "metadata": {},
   "outputs": [
    {
     "data": {
      "text/plain": [
       "datetime.date(2021, 6, 10)"
      ]
     },
     "execution_count": 26,
     "metadata": {},
     "output_type": "execute_result"
    }
   ],
   "source": [
    "from datetime import timedelta\n",
    "day10000 = my_date + timedelta(days=10000)\n",
    "day10000"
   ]
  }
 ],
 "metadata": {
  "kernelspec": {
   "display_name": "Python 3",
   "language": "python",
   "name": "python3"
  },
  "language_info": {
   "codemirror_mode": {
    "name": "ipython",
    "version": 3
   },
   "file_extension": ".py",
   "mimetype": "text/x-python",
   "name": "python",
   "nbconvert_exporter": "python",
   "pygments_lexer": "ipython3",
   "version": "3.8.8"
  }
 },
 "nbformat": 4,
 "nbformat_minor": 5
}
