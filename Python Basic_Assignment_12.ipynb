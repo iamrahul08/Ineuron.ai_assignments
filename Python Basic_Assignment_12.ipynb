{
 "cells": [
  {
   "cell_type": "markdown",
   "id": "2b023605",
   "metadata": {},
   "source": [
    "## 1. In what modes should the PdfFileReader() and PdfFileWriter() File objects will be opened?"
   ]
  },
  {
   "cell_type": "markdown",
   "id": "90f58346",
   "metadata": {},
   "source": [
    "These files will be opened in binary mode., read binary (rb) for PdfFileREader() and write binary (wb) PdfFileWriter()"
   ]
  },
  {
   "cell_type": "code",
   "execution_count": 1,
   "id": "d3bae40d",
   "metadata": {},
   "outputs": [
    {
     "name": "stdout",
     "output_type": "stream",
     "text": [
      "Collecting PyPDF2\n",
      "  Downloading PyPDF2-1.26.0.tar.gz (77 kB)\n",
      "Building wheels for collected packages: PyPDF2\n",
      "  Building wheel for PyPDF2 (setup.py): started\n",
      "  Building wheel for PyPDF2 (setup.py): finished with status 'done'\n",
      "  Created wheel for PyPDF2: filename=PyPDF2-1.26.0-py3-none-any.whl size=61085 sha256=03564855313b14e9fa31d747331cc437f4dd4bc13342cf9e20ff8ff8e20fc4fc\n",
      "  Stored in directory: c:\\users\\rahul\\appdata\\local\\pip\\cache\\wheels\\b1\\1a\\8f\\a4c34be976825a2f7948d0fa40907598d69834f8ab5889de11\n",
      "Successfully built PyPDF2\n",
      "Installing collected packages: PyPDF2\n",
      "Successfully installed PyPDF2-1.26.0\n"
     ]
    }
   ],
   "source": [
    "!pip install PyPDF2"
   ]
  },
  {
   "cell_type": "markdown",
   "id": "9e648461",
   "metadata": {},
   "source": [
    "## 2. From a PdfFileReader object, how do you get a Page object for page 5?"
   ]
  },
  {
   "cell_type": "markdown",
   "id": "3604ec0d",
   "metadata": {},
   "source": [
    "Calling getPage(4) will return a Page object for page 5 since page 0 is the first page"
   ]
  },
  {
   "cell_type": "code",
   "execution_count": 7,
   "id": "39d7a9ad",
   "metadata": {},
   "outputs": [
    {
     "data": {
      "text/plain": [
       "'Sample Five-Paragraph Examples Essay (on failure preceding success)\\nÒFailure is simply the opportunity to begin again, this time more intelligently,Ó wrote Henry Ford. People are \\nconstantly shaped and influenced by their experiences. People learn by doing. Often, people learn considerably \\nmore from their mistakes than their success. For proof of failure driving success, consider examples from both \\nscience and art, including Thomas Edison, Vincent Van Gogh, and Stephen King. \\nThe famed inventor, Thomas Edison, rose to prominence in the late 19th century because of his successes, but \\neven he felt that these successes were the result of many failures. He did not succeed in his work on one of his \\nmost famous inventions, the lightbulb, on his first try nor even on his hundred and first try. In fact, it took him \\nmore than 1,000 attempts to make the first incandescent bulb but, along the way, he learned quite a lot. As he \\nsaid, ÒI did not fail a thousand times but instead succeeded in finding a thousand ways it would not work.Ó \\nThus, Edison demonstrated both in thought and action how instructive mistakes can be. \\nThe road to contemporary success for the 19\\nth century artist Vincent van Gogh was even more dramatically \\npaved with failure. In current day, van Gogh is considered one of the most celebrated painters of all time. \\nHowever, during his lifetime, he was considered a disappointment. In current day, his paintings can sell for \\nmillions of dollars, but he struggled to sell his paintings when he was alive. He even took to burning several of \\nhis paintings because they would not sell. \\nThe 20\\nth century writer Stephen King, author of novels that were turned into popular movies (e.g., \\nStand by Me\\n and \\nThe Shawshank Redemption\\n) also experienced failure. When he wrote his first novel, \\nCarrie\\n, he was \\nteaching school in rural Maine. Although he had previously had limited success in selling his short stories, it \\ntook him 30 attempts to get Carrie published. He almost threw away the manuscript, but his wife pulled it out \\nfrom the trash and encouraged him to try again. It is hard to imagine Stephen King ever felt that defeated, isnÕt \\nit?Thomas Edison, Vincent van Gogh, and Stephen King demonstrate, in both science and art, that failure more \\noften than not precedes success. Whenever we learn a new skill - be it riding a bike, driving a car, or cooking a \\ncake - we learn from our mistakes. Few, if any of us, are ready to go from training wheels to a marathon in a \\nsingle day but these early experiences (these so-called mistakes) can help us improve our performance over \\ntime. You cannot make a cake without breaking a few eggs and, likewise, we learn by doing and doing \\ninevitably means making mistakes. If we treat failure not as a misstep but as a learning experience the \\npossibilities for self-improvement are limitless. \\nModified from \\nEssay Writing Tips\\n (https://www.internationalstudent.com/essay_writing/essay_tips/\\n) and \\nDevelop Good Habits (\\nhttps://www.developgoodhabits.com/successful-people-failed\\n)5'"
      ]
     },
     "execution_count": 7,
     "metadata": {},
     "output_type": "execute_result"
    }
   ],
   "source": [
    "import PyPDF2 as pdf\n",
    "pdfFileObj = open(\"Paragraph.pdf\",'rb')\n",
    "pdfReader = pdf.PdfFileReader(pdfFileObj)\n",
    "pageObj = pdfReader.getPage(4)\n",
    "pageObj.extractText()"
   ]
  },
  {
   "cell_type": "markdown",
   "id": "b70292b7",
   "metadata": {},
   "source": [
    "## 3. What PdfFileReader variable stores the number of pages in the PDF document?\n"
   ]
  },
  {
   "cell_type": "markdown",
   "id": "8a12d5f9",
   "metadata": {},
   "source": [
    "The PdfFileReader.numPages variable stores an integer of the number of pages in the PdfFileReader object"
   ]
  },
  {
   "cell_type": "code",
   "execution_count": 8,
   "id": "bcc130b5",
   "metadata": {},
   "outputs": [
    {
     "data": {
      "text/plain": [
       "7"
      ]
     },
     "execution_count": 8,
     "metadata": {},
     "output_type": "execute_result"
    }
   ],
   "source": [
    "import PyPDF2 as pdf\n",
    "pdfFileObj = open(\"Paragraph.pdf\",'rb')\n",
    "pdfReader = pdf.PdfFileReader(pdfFileObj)\n",
    "pdfReader.numPages"
   ]
  },
  {
   "cell_type": "markdown",
   "id": "0b9bd365",
   "metadata": {},
   "source": [
    "## 4. If a PdfFileReader object’s PDF is encrypted with the password swordfish, what must you do before you can obtain Page objects from it?"
   ]
  },
  {
   "cell_type": "markdown",
   "id": "b0e67cbb",
   "metadata": {},
   "source": [
    "Before we obtain the page object, the pdf has to be decrypted by calling .decrypt('swordfish')"
   ]
  },
  {
   "cell_type": "code",
   "execution_count": 9,
   "id": "92ee129f",
   "metadata": {},
   "outputs": [],
   "source": [
    "#pdfReader.decrypt('swordfish')"
   ]
  },
  {
   "cell_type": "markdown",
   "id": "478370ae",
   "metadata": {},
   "source": [
    "## 5. What methods do you use to rotate a page?"
   ]
  },
  {
   "cell_type": "code",
   "execution_count": 10,
   "id": "8b1908b3",
   "metadata": {},
   "outputs": [],
   "source": [
    "#pageObj.rotateClockwise(180)"
   ]
  },
  {
   "cell_type": "markdown",
   "id": "5d8cc157",
   "metadata": {},
   "source": [
    "## 6. What is the difference between a Run object and a Paragraph object?"
   ]
  },
  {
   "cell_type": "markdown",
   "id": "e546f76a",
   "metadata": {},
   "source": [
    "Paragraph Object :  A document contains multiple paragraphs. A paragraph begins on a new line and contains multiple \n",
    "runs. \n",
    "The Document object contains a list of Paragraph objects for the paragraphs in the document. (A new paragraph begins \n",
    "whenever the user presses ENTER or RETURN while typing in a Word document.)\n",
    "\n",
    "Run Objects :\n",
    "Runs are contiguous groups of characters within a paragraph with the same style"
   ]
  },
  {
   "cell_type": "markdown",
   "id": "5cfe57ee",
   "metadata": {},
   "source": [
    "## 7. How do you obtain a list of Paragraph objects for a Document object that’s stored in a variable named doc?"
   ]
  },
  {
   "cell_type": "markdown",
   "id": "fbe66fc6",
   "metadata": {},
   "source": [
    "By using doc.paragraphs"
   ]
  },
  {
   "cell_type": "code",
   "execution_count": 11,
   "id": "d5496ade",
   "metadata": {},
   "outputs": [
    {
     "name": "stdout",
     "output_type": "stream",
     "text": [
      "Collecting python-docx\n",
      "  Downloading python-docx-0.8.11.tar.gz (5.6 MB)\n",
      "Requirement already satisfied: lxml>=2.3.2 in c:\\users\\rahul\\anaconda3\\lib\\site-packages (from python-docx) (4.6.3)\n",
      "Building wheels for collected packages: python-docx\n",
      "  Building wheel for python-docx (setup.py): started\n",
      "  Building wheel for python-docx (setup.py): finished with status 'done'\n",
      "  Created wheel for python-docx: filename=python_docx-0.8.11-py3-none-any.whl size=184600 sha256=39eeaad4270de0fb0ebab87756aa507fd43028b74556851c006abe0a29eb8917\n",
      "  Stored in directory: c:\\users\\rahul\\appdata\\local\\pip\\cache\\wheels\\32\\b8\\b2\\c4c2b95765e615fe139b0b17b5ea7c0e1b6519b0a9ec8fb34d\n",
      "Successfully built python-docx\n",
      "Installing collected packages: python-docx\n",
      "Successfully installed python-docx-0.8.11\n"
     ]
    },
    {
     "data": {
      "text/plain": [
       "[<docx.text.paragraph.Paragraph at 0x2a66bf752b0>,\n",
       " <docx.text.paragraph.Paragraph at 0x2a66bf753d0>,\n",
       " <docx.text.paragraph.Paragraph at 0x2a66bf75310>,\n",
       " <docx.text.paragraph.Paragraph at 0x2a66bf75490>,\n",
       " <docx.text.paragraph.Paragraph at 0x2a66bf75370>,\n",
       " <docx.text.paragraph.Paragraph at 0x2a66bf75520>,\n",
       " <docx.text.paragraph.Paragraph at 0x2a66bf75580>,\n",
       " <docx.text.paragraph.Paragraph at 0x2a66bf755e0>,\n",
       " <docx.text.paragraph.Paragraph at 0x2a66bf75640>,\n",
       " <docx.text.paragraph.Paragraph at 0x2a66bf756a0>,\n",
       " <docx.text.paragraph.Paragraph at 0x2a66bf75850>,\n",
       " <docx.text.paragraph.Paragraph at 0x2a66bf75730>,\n",
       " <docx.text.paragraph.Paragraph at 0x2a66bf75910>,\n",
       " <docx.text.paragraph.Paragraph at 0x2a66bf757f0>,\n",
       " <docx.text.paragraph.Paragraph at 0x2a66bf75a00>,\n",
       " <docx.text.paragraph.Paragraph at 0x2a66bf758b0>,\n",
       " <docx.text.paragraph.Paragraph at 0x2a66bf75a90>,\n",
       " <docx.text.paragraph.Paragraph at 0x2a66bf75970>,\n",
       " <docx.text.paragraph.Paragraph at 0x2a66bf75b50>,\n",
       " <docx.text.paragraph.Paragraph at 0x2a66bf75a30>,\n",
       " <docx.text.paragraph.Paragraph at 0x2a66bf75c10>,\n",
       " <docx.text.paragraph.Paragraph at 0x2a66bf75af0>,\n",
       " <docx.text.paragraph.Paragraph at 0x2a66bf75cd0>,\n",
       " <docx.text.paragraph.Paragraph at 0x2a66bf75bb0>,\n",
       " <docx.text.paragraph.Paragraph at 0x2a66bf75d90>,\n",
       " <docx.text.paragraph.Paragraph at 0x2a66bf75c70>,\n",
       " <docx.text.paragraph.Paragraph at 0x2a66bf75e50>,\n",
       " <docx.text.paragraph.Paragraph at 0x2a66bf75d30>,\n",
       " <docx.text.paragraph.Paragraph at 0x2a66bf75280>,\n",
       " <docx.text.paragraph.Paragraph at 0x2a66bf752e0>,\n",
       " <docx.text.paragraph.Paragraph at 0x2a66bf8b250>,\n",
       " <docx.text.paragraph.Paragraph at 0x2a66bf8b9a0>,\n",
       " <docx.text.paragraph.Paragraph at 0x2a66bf8ba00>]"
      ]
     },
     "execution_count": 11,
     "metadata": {},
     "output_type": "execute_result"
    }
   ],
   "source": [
    "!pip install python-docx\n",
    "import docx\n",
    "doc = docx.Document('demo.docx')\n",
    "doc.paragraphs"
   ]
  },
  {
   "cell_type": "markdown",
   "id": "d321d008",
   "metadata": {},
   "source": [
    "## 8. What type of object has bold, underline, italic, strike, and outline variables?"
   ]
  },
  {
   "cell_type": "markdown",
   "id": "13d1b006",
   "metadata": {},
   "source": [
    "A Run object has bold, underline,italic,strike and outline variables"
   ]
  },
  {
   "cell_type": "markdown",
   "id": "36a1ec52",
   "metadata": {},
   "source": [
    "## 9. What is the difference between False, True, and None for the bold variable?"
   ]
  },
  {
   "cell_type": "markdown",
   "id": "28c4e71e",
   "metadata": {},
   "source": [
    "Runs can be further styled using text attributes. Each attribute can be set to one of three values: \n",
    "True (the attribute is always enabled, no matter what other styles are applied to the run), \n",
    "False (the attribute is always disabled),\n",
    "None (defaults to whatever the run’s style is set to)\n",
    "\n",
    "True always makes the Run object bolded and False makes it always not bolded, no matter what the style’s bold setting is. None will make the Run object just use the style’s bold setting"
   ]
  },
  {
   "cell_type": "markdown",
   "id": "3346394d",
   "metadata": {},
   "source": [
    "## 10. How do you create a Document object for a new Word document?"
   ]
  },
  {
   "cell_type": "markdown",
   "id": "dfb07d4b",
   "metadata": {},
   "source": [
    "By Calling the docx.Document() function."
   ]
  },
  {
   "cell_type": "markdown",
   "id": "256bd55f",
   "metadata": {},
   "source": [
    "## 11. How do you add a paragraph with the text 'Hello, there!' to a Document object stored in a variable named doc?"
   ]
  },
  {
   "cell_type": "code",
   "execution_count": 12,
   "id": "ad160325",
   "metadata": {},
   "outputs": [],
   "source": [
    "import docx\n",
    "doc = docx.Document()\n",
    "\n",
    "doc.add_paragraph('Hello there!')\n",
    "doc.save('hellothere.docx')"
   ]
  },
  {
   "cell_type": "markdown",
   "id": "f5bb6b88",
   "metadata": {},
   "source": [
    "## 12. What integers represent the levels of headings available in Word documents?"
   ]
  },
  {
   "cell_type": "markdown",
   "id": "41cfce05",
   "metadata": {},
   "source": [
    "integer from 0 to 4\n",
    "\n",
    "The arguments to add_heading() are a string of the heading text and an integer from 0 to 4. The integer 0 makes the heading the Title style, which is used for the top of the document. Integers 1 to 4 are for various heading levels, with 1 being the main heading and 4 the lowest subheading"
   ]
  }
 ],
 "metadata": {
  "kernelspec": {
   "display_name": "Python 3",
   "language": "python",
   "name": "python3"
  },
  "language_info": {
   "codemirror_mode": {
    "name": "ipython",
    "version": 3
   },
   "file_extension": ".py",
   "mimetype": "text/x-python",
   "name": "python",
   "nbconvert_exporter": "python",
   "pygments_lexer": "ipython3",
   "version": "3.8.8"
  }
 },
 "nbformat": 4,
 "nbformat_minor": 5
}
