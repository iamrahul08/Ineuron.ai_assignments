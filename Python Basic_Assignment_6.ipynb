{
 "cells": [
  {
   "cell_type": "markdown",
   "id": "d5bc29a9",
   "metadata": {},
   "source": [
    "## 1. What are escape characters, and how do you use them?"
   ]
  },
  {
   "cell_type": "markdown",
   "id": "9929a319",
   "metadata": {},
   "source": [
    "In Python strings, the backslash \"\\\" is a special character, also called the \"escape\" character. \n",
    "It is used in representing certain whitespace characters: \"\\t\" is a tab, \"\\n\" is a newline, and \"\\r\" is a carriage return\n",
    "prefixing a special character with \"\\\" turns it into an ordinary character. \n",
    "This is called \"escaping\". For example, \"\\'\" is the single quote character. \n",
    "'It\\'s Sunday' therefore is a valid string and equivalent to \"It's Sunday\". Likewise, '\"' can be escaped: \"\\\"hello\\\"\" is a string begins and ends with the literal double quote character. \n",
    "Finally, \"\\\" can be used to escape itself: \"\\\\\" is the literal backslash character."
   ]
  },
  {
   "cell_type": "code",
   "execution_count": 3,
   "id": "fa559c88",
   "metadata": {},
   "outputs": [
    {
     "name": "stdout",
     "output_type": "stream",
     "text": [
      "it's Sunday\n",
      "it's Sunday\n"
     ]
    }
   ],
   "source": [
    "print(\"it's Sunday\")\n",
    "#above sentence can be reperesented using escape charecter as\n",
    "print('it\\'s Sunday')"
   ]
  },
  {
   "cell_type": "markdown",
   "id": "fa73bded",
   "metadata": {},
   "source": [
    "## 2. What do the escape characters n and t stand for?## "
   ]
  },
  {
   "cell_type": "markdown",
   "id": "26709ad3",
   "metadata": {},
   "source": [
    "\"\\t\" stands for a new tab & \"\\n\" stands for a new line."
   ]
  },
  {
   "cell_type": "markdown",
   "id": "6509deb0",
   "metadata": {},
   "source": [
    "## 3. What is the way to include backslash characters in a string?"
   ]
  },
  {
   "cell_type": "code",
   "execution_count": 5,
   "id": "10c3c3fe",
   "metadata": {},
   "outputs": [
    {
     "name": "stdout",
     "output_type": "stream",
     "text": [
      "There is a back slash \\ in a sentence\n"
     ]
    }
   ],
   "source": [
    "print('There is a back slash \\\\ in a sentence')\n"
   ]
  },
  {
   "cell_type": "markdown",
   "id": "15f871bb",
   "metadata": {},
   "source": [
    "## 4. The string \"Howl's Moving Castle\" is a correct value. Why isn't the single quote character in the word Howl's not escaped a problem?"
   ]
  },
  {
   "cell_type": "markdown",
   "id": "365d2078",
   "metadata": {},
   "source": [
    "The single quote in Howl's is fine because we've used double quotes to mark the beginning and end of the string. \n",
    "like wise we can use double quotes in with single quotes"
   ]
  },
  {
   "cell_type": "code",
   "execution_count": 6,
   "id": "dd99df3b",
   "metadata": {},
   "outputs": [
    {
     "name": "stdout",
     "output_type": "stream",
     "text": [
      "Howl's Moving Caslte\n"
     ]
    }
   ],
   "source": [
    "print(\"Howl's Moving Caslte\")"
   ]
  },
  {
   "cell_type": "markdown",
   "id": "704153ff",
   "metadata": {},
   "source": [
    "## 5. How do you write a string of newlines if you don't want to use the n character?"
   ]
  },
  {
   "cell_type": "code",
   "execution_count": 8,
   "id": "5c264329",
   "metadata": {},
   "outputs": [
    {
     "name": "stdout",
     "output_type": "stream",
     "text": [
      "goto next line\n",
      "newline\n"
     ]
    }
   ],
   "source": [
    "print(\"goto next line\",end = '\\n')\n",
    "print(\"newline\")\n"
   ]
  },
  {
   "cell_type": "markdown",
   "id": "39c87c31",
   "metadata": {},
   "source": [
    "## 6. What are the values of the given expressions?\n",
    "## 'Hello, world!'[1] > e\n",
    "## 'Hello, world!'[0:5] > 'Hello'\n",
    "## 'Hello, world!'[:5] > 'Hello'\n",
    "## 'Hello, world!'[3:] > 'lo, World!'\n"
   ]
  },
  {
   "cell_type": "code",
   "execution_count": 10,
   "id": "2b6f6273",
   "metadata": {},
   "outputs": [
    {
     "data": {
      "text/plain": [
       "'e'"
      ]
     },
     "execution_count": 10,
     "metadata": {},
     "output_type": "execute_result"
    }
   ],
   "source": [
    "'Hello, World!'[1]"
   ]
  },
  {
   "cell_type": "code",
   "execution_count": 11,
   "id": "ff5627e3",
   "metadata": {},
   "outputs": [
    {
     "data": {
      "text/plain": [
       "'Hello'"
      ]
     },
     "execution_count": 11,
     "metadata": {},
     "output_type": "execute_result"
    }
   ],
   "source": [
    "'Hello, World!'[0:5]"
   ]
  },
  {
   "cell_type": "code",
   "execution_count": 12,
   "id": "bcfebaf6",
   "metadata": {},
   "outputs": [
    {
     "data": {
      "text/plain": [
       "'Hello'"
      ]
     },
     "execution_count": 12,
     "metadata": {},
     "output_type": "execute_result"
    }
   ],
   "source": [
    "'Hello, World!'[:5]"
   ]
  },
  {
   "cell_type": "code",
   "execution_count": 13,
   "id": "e8f4f335",
   "metadata": {},
   "outputs": [
    {
     "data": {
      "text/plain": [
       "'lo, World!'"
      ]
     },
     "execution_count": 13,
     "metadata": {},
     "output_type": "execute_result"
    }
   ],
   "source": [
    "'Hello, World!'[3:]"
   ]
  },
  {
   "cell_type": "markdown",
   "id": "422ffc38",
   "metadata": {},
   "source": [
    "## 7. What are the values of the following expressions?\n",
    "## 'Hello'.upper() 'Hello'\n",
    "## 'Hello'.upper().isupper() 'True'\n",
    "## 'Hello'.upper().lower() 'hello'\n"
   ]
  },
  {
   "cell_type": "code",
   "execution_count": 14,
   "id": "b1c7f736",
   "metadata": {},
   "outputs": [
    {
     "data": {
      "text/plain": [
       "'HELLO'"
      ]
     },
     "execution_count": 14,
     "metadata": {},
     "output_type": "execute_result"
    }
   ],
   "source": [
    "'Hello'.upper()"
   ]
  },
  {
   "cell_type": "code",
   "execution_count": 15,
   "id": "863301a6",
   "metadata": {},
   "outputs": [
    {
     "data": {
      "text/plain": [
       "True"
      ]
     },
     "execution_count": 15,
     "metadata": {},
     "output_type": "execute_result"
    }
   ],
   "source": [
    "'Hello'.upper().isupper()"
   ]
  },
  {
   "cell_type": "code",
   "execution_count": 16,
   "id": "26b83ac6",
   "metadata": {},
   "outputs": [
    {
     "data": {
      "text/plain": [
       "'hello'"
      ]
     },
     "execution_count": 16,
     "metadata": {},
     "output_type": "execute_result"
    }
   ],
   "source": [
    "'Hello'.upper().lower()"
   ]
  },
  {
   "cell_type": "markdown",
   "id": "2e859633",
   "metadata": {},
   "source": [
    "## 8. What are the values of the following expressions?\n",
    "## 'Remember, remember, the fifth of July.'.split()\n",
    "## '-'.join('There can only one.'.split())\n"
   ]
  },
  {
   "cell_type": "markdown",
   "id": "59d6a838",
   "metadata": {},
   "source": [
    "'Remember, remember, the fifth of July.'.split() -> splits with space and returns list of words\n",
    "'-'.join('There can only one.'.split()) splits with space and join with '-'"
   ]
  },
  {
   "cell_type": "code",
   "execution_count": 17,
   "id": "1e0df7b0",
   "metadata": {},
   "outputs": [
    {
     "data": {
      "text/plain": [
       "['Remember,', 'remember,', 'the', 'fifth', 'of', 'July.']"
      ]
     },
     "execution_count": 17,
     "metadata": {},
     "output_type": "execute_result"
    }
   ],
   "source": [
    "'Remember, remember, the fifth of July.'.split()\n"
   ]
  },
  {
   "cell_type": "code",
   "execution_count": 18,
   "id": "f5331145",
   "metadata": {},
   "outputs": [
    {
     "data": {
      "text/plain": [
       "'There-can-only-one.'"
      ]
     },
     "execution_count": 18,
     "metadata": {},
     "output_type": "execute_result"
    }
   ],
   "source": [
    "'-'.join('There can only one.'.split())"
   ]
  },
  {
   "cell_type": "markdown",
   "id": "7cf5be15",
   "metadata": {},
   "source": [
    "## 9. What are the methods for right-justifying, left-justifying, and centering a string?"
   ]
  },
  {
   "cell_type": "markdown",
   "id": "b9d0fad5",
   "metadata": {},
   "source": [
    "The following methods are used for justifying strings\n",
    "ljust()\n",
    "rjust()\n",
    "center()"
   ]
  },
  {
   "cell_type": "code",
   "execution_count": 19,
   "id": "71422255",
   "metadata": {},
   "outputs": [
    {
     "data": {
      "text/plain": [
       "'Hello-----'"
      ]
     },
     "execution_count": 19,
     "metadata": {},
     "output_type": "execute_result"
    }
   ],
   "source": [
    "# left justified\n",
    "str =\"Hello\"\n",
    "str.ljust(10,\"-\")"
   ]
  },
  {
   "cell_type": "code",
   "execution_count": 20,
   "id": "ffd41ef4",
   "metadata": {},
   "outputs": [
    {
     "data": {
      "text/plain": [
       "'-----Hello'"
      ]
     },
     "execution_count": 20,
     "metadata": {},
     "output_type": "execute_result"
    }
   ],
   "source": [
    "# left justified\n",
    "str =\"Hello\"\n",
    "str.rjust(10,\"-\")"
   ]
  },
  {
   "cell_type": "code",
   "execution_count": 21,
   "id": "b656c605",
   "metadata": {},
   "outputs": [
    {
     "data": {
      "text/plain": [
       "'--Hello---'"
      ]
     },
     "execution_count": 21,
     "metadata": {},
     "output_type": "execute_result"
    }
   ],
   "source": [
    "# left justified\n",
    "str =\"Hello\"\n",
    "str.center(10,\"-\")b"
   ]
  },
  {
   "cell_type": "markdown",
   "id": "28558a1e",
   "metadata": {},
   "source": [
    "## 10. What is the best way to remove whitespace characters from the start or end?"
   ]
  },
  {
   "cell_type": "markdown",
   "id": "ea9d2f17",
   "metadata": {},
   "source": [
    "The lstrip() and rstrip() methods remove whitespaces from the left and right ends of a string."
   ]
  }
 ],
 "metadata": {
  "kernelspec": {
   "display_name": "Python 3",
   "language": "python",
   "name": "python3"
  },
  "language_info": {
   "codemirror_mode": {
    "name": "ipython",
    "version": 3
   },
   "file_extension": ".py",
   "mimetype": "text/x-python",
   "name": "python",
   "nbconvert_exporter": "python",
   "pygments_lexer": "ipython3",
   "version": "3.8.8"
  }
 },
 "nbformat": 4,
 "nbformat_minor": 5
}
