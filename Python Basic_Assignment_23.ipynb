{
 "cells": [
  {
   "cell_type": "markdown",
   "id": "491158ea",
   "metadata": {},
   "source": [
    "## 1. What is the result of the code, and why?"
   ]
  },
  {
   "cell_type": "markdown",
   "id": "2221df35",
   "metadata": {},
   "source": [
    "def func(a, b=6, c=8):\n",
    "print(a, b, c)\n",
    "func(1, 2)"
   ]
  },
  {
   "cell_type": "markdown",
   "id": "b75ef99d",
   "metadata": {},
   "source": [
    "Ans :\n",
    "\n",
    "This funtion is taking a positional argument and 2 keyword argument. When function call m=is made, parameter passed are a=1,b=2. When the function is executed , parameter c=8 will be taken by default as its a keyword argument. Solution is = 1,2,8"
   ]
  },
  {
   "cell_type": "code",
   "execution_count": 1,
   "id": "0c59f279",
   "metadata": {},
   "outputs": [
    {
     "name": "stdout",
     "output_type": "stream",
     "text": [
      "1 2 8\n"
     ]
    }
   ],
   "source": [
    "def func(a, b=6, c=8):\n",
    "    print(a, b, c)\n",
    "func(1, 2)"
   ]
  },
  {
   "cell_type": "markdown",
   "id": "bf8f65e0",
   "metadata": {},
   "source": [
    "## 2. What is the result of this code, and why?"
   ]
  },
  {
   "cell_type": "markdown",
   "id": "83c8d891",
   "metadata": {},
   "source": [
    "def func(a, b, c=5):\n",
    "print(a, b, c)\n",
    "func(1, c=3, b=2)"
   ]
  },
  {
   "cell_type": "markdown",
   "id": "24e5840b",
   "metadata": {},
   "source": [
    "Ans :\n",
    "When we make function call, order will be positional argument and then keywords arguments. we can pass the keyword arguments in any order we want.\n",
    "Solution is 1,2,3"
   ]
  },
  {
   "cell_type": "code",
   "execution_count": 2,
   "id": "6de8363a",
   "metadata": {},
   "outputs": [
    {
     "name": "stdout",
     "output_type": "stream",
     "text": [
      "1 2 3\n"
     ]
    }
   ],
   "source": [
    "def func(a, b, c=5):\n",
    "    print(a, b, c)\n",
    "func(1, c=3, b=2)"
   ]
  },
  {
   "cell_type": "markdown",
   "id": "770f6064",
   "metadata": {},
   "source": [
    "## 3. How about this code: what is its result, and why?"
   ]
  },
  {
   "cell_type": "markdown",
   "id": "fbcd6df9",
   "metadata": {},
   "source": [
    "def func(a, *pargs):\n",
    "print(a, pargs)\n",
    "func(1, 2, 3)"
   ]
  },
  {
   "cell_type": "markdown",
   "id": "963104e2",
   "metadata": {},
   "source": [
    "The return type of *args parameter is tuple, where as **kargs will be dictionary\n",
    "solution is = 1,(2,3)"
   ]
  },
  {
   "cell_type": "code",
   "execution_count": 3,
   "id": "63c6b386",
   "metadata": {},
   "outputs": [
    {
     "name": "stdout",
     "output_type": "stream",
     "text": [
      "1 (2, 3)\n"
     ]
    }
   ],
   "source": [
    "def func(a, *pargs):\n",
    "    print(a, pargs)\n",
    "func(1, 2, 3)"
   ]
  },
  {
   "cell_type": "markdown",
   "id": "f7f443fe",
   "metadata": {},
   "source": [
    "## 4. What does this code print, and why?"
   ]
  },
  {
   "cell_type": "markdown",
   "id": "3cd13dac",
   "metadata": {},
   "source": [
    "def func(a, **kargs):\n",
    "    print(a, kargs)\n",
    "func(a=1, c=3, b=2)"
   ]
  },
  {
   "cell_type": "markdown",
   "id": "6be6169e",
   "metadata": {},
   "source": [
    "Ans : \n",
    "The return type of  **kargs is  dictionary solution is = 1,{'c':3,'b':2}"
   ]
  },
  {
   "cell_type": "code",
   "execution_count": 4,
   "id": "0e5e61fa",
   "metadata": {},
   "outputs": [
    {
     "name": "stdout",
     "output_type": "stream",
     "text": [
      "1 {'c': 3, 'b': 2}\n"
     ]
    }
   ],
   "source": [
    "def func(a, **kargs):\n",
    "    print(a, kargs)\n",
    "func(a=1, c=3, b=2)"
   ]
  },
  {
   "cell_type": "markdown",
   "id": "661e76bc",
   "metadata": {},
   "source": [
    "## 5. What gets printed by this, and explain?"
   ]
  },
  {
   "cell_type": "markdown",
   "id": "65df276d",
   "metadata": {},
   "source": [
    "def func(a, b, c=8, d=5): print(a, b, c, d)\n",
    "func(1, *(5, 6))"
   ]
  },
  {
   "cell_type": "markdown",
   "id": "f0fdf416",
   "metadata": {},
   "source": [
    "Ans :\n",
    " '*' is the unpacking operator and are operators that unpack the values from iterable objects in Python. The single \n",
    "asterisk operator * can be used on any iterable that Python provides, while the double asterisk operator ** can only\n",
    "be used on dictionaries. In the example the value *(5,6) will be unpacked and will be assigned to b and c and passed \n",
    "as arguments, d =5 will taken by defaults are keyword arguments.\n",
    "\n",
    "Solution 1,5,6,5"
   ]
  },
  {
   "cell_type": "code",
   "execution_count": 6,
   "id": "4f68aada",
   "metadata": {},
   "outputs": [
    {
     "name": "stdout",
     "output_type": "stream",
     "text": [
      "1 5 6 5\n"
     ]
    }
   ],
   "source": [
    "def func(a, b, c=8, d=5): \n",
    "    print(a, b, c, d)\n",
    "func(1, *(5, 6))"
   ]
  },
  {
   "cell_type": "markdown",
   "id": "e9184b10",
   "metadata": {},
   "source": [
    "## 6. what is the result of this, and explain?"
   ]
  },
  {
   "cell_type": "markdown",
   "id": "18a891b8",
   "metadata": {},
   "source": [
    "def func(a, b, c): a = 2; b[0] = 'x'; c['a'] = 'y'\n",
    "l=1; m=[1]; n={'a':0}\n",
    "func(l, m, n)\n",
    "l, m, n"
   ]
  },
  {
   "cell_type": "markdown",
   "id": "a00a1ad9",
   "metadata": {},
   "source": [
    "Ans :\n",
    "Here in the code, the list and dict are passed as argument, and those are mutable. Here the list l and parameter b point \n",
    "to the same list in the memeory location where dict n and c point to the same memory location. Any updates to this \n",
    "list will update in the memory location\n",
    "\n",
    "l = 1 , integer values, immutable, m is list & mutable, n is dict & mutable.\n",
    "output will be = 1,['x'],{'a':'y'}"
   ]
  },
  {
   "cell_type": "code",
   "execution_count": 8,
   "id": "d868890b",
   "metadata": {},
   "outputs": [
    {
     "data": {
      "text/plain": [
       "(1, ['x'], {'a': 'y'})"
      ]
     },
     "execution_count": 8,
     "metadata": {},
     "output_type": "execute_result"
    }
   ],
   "source": [
    "def func(a, b, c): \n",
    "    a = 2; b[0] = 'x'; c['a'] = 'y'\n",
    "    \n",
    "l=1; m=[1]; n={'a':0}\n",
    "func(l, m, n)\n",
    "\n",
    "l, m, n"
   ]
  }
 ],
 "metadata": {
  "kernelspec": {
   "display_name": "Python 3",
   "language": "python",
   "name": "python3"
  },
  "language_info": {
   "codemirror_mode": {
    "name": "ipython",
    "version": 3
   },
   "file_extension": ".py",
   "mimetype": "text/x-python",
   "name": "python",
   "nbconvert_exporter": "python",
   "pygments_lexer": "ipython3",
   "version": "3.8.8"
  }
 },
 "nbformat": 4,
 "nbformat_minor": 5
}
